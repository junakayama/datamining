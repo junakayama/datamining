{
 "cells": [
  {
   "cell_type": "code",
   "execution_count": 1,
   "metadata": {},
   "outputs": [],
   "source": [
    "import pandas as pd\n",
    "import matplotlib\n",
    "from sklearn.preprocessing import minmax_scale\n",
    "from sklearn.preprocessing import LabelEncoder\n",
    "\n",
    "low_memory = False"
   ]
  },
  {
   "cell_type": "code",
   "execution_count": 2,
   "metadata": {
    "scrolled": true
   },
   "outputs": [
    {
     "name": "stderr",
     "output_type": "stream",
     "text": [
      "/Users/julia/anaconda3/lib/python3.6/site-packages/IPython/core/interactiveshell.py:2785: DtypeWarning: Columns (10,17) have mixed types. Specify dtype option on import or set low_memory=False.\n",
      "  interactivity=interactivity, compiler=compiler, result=result)\n"
     ]
    }
   ],
   "source": [
    "df_2014 = pd.read_csv('dados_congresso/ceapd_2014.csv', sep=';')\n",
    "df_2015 = pd.read_csv('dados_congresso/ceapd_2015.csv', sep=';')\n",
    "df_2016 = pd.read_csv('dados_congresso/ceapd_2016.csv', sep=';')\n",
    "df_2017 = pd.read_csv('dados_congresso/ceapd_2017.csv', sep=';')"
   ]
  },
  {
   "cell_type": "code",
   "execution_count": 3,
   "metadata": {},
   "outputs": [],
   "source": [
    "dfs = [df_2014, df_2015, df_2016, df_2017]"
   ]
  },
  {
   "cell_type": "code",
   "execution_count": 4,
   "metadata": {},
   "outputs": [],
   "source": [
    "df = pd.concat(dfs)"
   ]
  },
  {
   "cell_type": "code",
   "execution_count": 5,
   "metadata": {
    "scrolled": false
   },
   "outputs": [
    {
     "data": {
      "text/html": [
       "<div>\n",
       "<style scoped>\n",
       "    .dataframe tbody tr th:only-of-type {\n",
       "        vertical-align: middle;\n",
       "    }\n",
       "\n",
       "    .dataframe tbody tr th {\n",
       "        vertical-align: top;\n",
       "    }\n",
       "\n",
       "    .dataframe thead th {\n",
       "        text-align: right;\n",
       "    }\n",
       "</style>\n",
       "<table border=\"1\" class=\"dataframe\">\n",
       "  <thead>\n",
       "    <tr style=\"text-align: right;\">\n",
       "      <th></th>\n",
       "      <th>txNomeParlamentar</th>\n",
       "      <th>idecadastro</th>\n",
       "      <th>nuCarteiraParlamentar</th>\n",
       "      <th>nuLegislatura</th>\n",
       "      <th>sgUF</th>\n",
       "      <th>sgPartido</th>\n",
       "      <th>codLegislatura</th>\n",
       "      <th>numSubCota</th>\n",
       "      <th>txtDescricao</th>\n",
       "      <th>numEspecificacaoSubCota</th>\n",
       "      <th>...</th>\n",
       "      <th>numMes</th>\n",
       "      <th>numAno</th>\n",
       "      <th>numParcela</th>\n",
       "      <th>txtPassageiro</th>\n",
       "      <th>txtTrecho</th>\n",
       "      <th>numLote</th>\n",
       "      <th>numRessarcimento</th>\n",
       "      <th>vlrRestituicao</th>\n",
       "      <th>nuDeputadoId</th>\n",
       "      <th>ideDocumento</th>\n",
       "    </tr>\n",
       "  </thead>\n",
       "  <tbody>\n",
       "    <tr>\n",
       "      <th>0</th>\n",
       "      <td>ABELARDO CAMARINHA</td>\n",
       "      <td>141463.0</td>\n",
       "      <td>329.0</td>\n",
       "      <td>2011</td>\n",
       "      <td>SP</td>\n",
       "      <td>PSB</td>\n",
       "      <td>54.0</td>\n",
       "      <td>3</td>\n",
       "      <td>COMBUSTÍVEIS E LUBRIFICANTES.</td>\n",
       "      <td>1</td>\n",
       "      <td>...</td>\n",
       "      <td>3</td>\n",
       "      <td>2014</td>\n",
       "      <td>0</td>\n",
       "      <td>NaN</td>\n",
       "      <td>NaN</td>\n",
       "      <td>1107916</td>\n",
       "      <td>4646.0</td>\n",
       "      <td>0.0</td>\n",
       "      <td>1772</td>\n",
       "      <td>5393987</td>\n",
       "    </tr>\n",
       "    <tr>\n",
       "      <th>1</th>\n",
       "      <td>ABELARDO CAMARINHA</td>\n",
       "      <td>141463.0</td>\n",
       "      <td>329.0</td>\n",
       "      <td>2011</td>\n",
       "      <td>SP</td>\n",
       "      <td>PSB</td>\n",
       "      <td>54.0</td>\n",
       "      <td>3</td>\n",
       "      <td>COMBUSTÍVEIS E LUBRIFICANTES.</td>\n",
       "      <td>1</td>\n",
       "      <td>...</td>\n",
       "      <td>6</td>\n",
       "      <td>2014</td>\n",
       "      <td>0</td>\n",
       "      <td>NaN</td>\n",
       "      <td>NaN</td>\n",
       "      <td>1128219</td>\n",
       "      <td>4721.0</td>\n",
       "      <td>0.0</td>\n",
       "      <td>1772</td>\n",
       "      <td>5466596</td>\n",
       "    </tr>\n",
       "    <tr>\n",
       "      <th>2</th>\n",
       "      <td>ABELARDO CAMARINHA</td>\n",
       "      <td>141463.0</td>\n",
       "      <td>329.0</td>\n",
       "      <td>2011</td>\n",
       "      <td>SP</td>\n",
       "      <td>PSB</td>\n",
       "      <td>54.0</td>\n",
       "      <td>3</td>\n",
       "      <td>COMBUSTÍVEIS E LUBRIFICANTES.</td>\n",
       "      <td>1</td>\n",
       "      <td>...</td>\n",
       "      <td>7</td>\n",
       "      <td>2014</td>\n",
       "      <td>0</td>\n",
       "      <td>NaN</td>\n",
       "      <td>NaN</td>\n",
       "      <td>1131441</td>\n",
       "      <td>4741.0</td>\n",
       "      <td>0.0</td>\n",
       "      <td>1772</td>\n",
       "      <td>5479339</td>\n",
       "    </tr>\n",
       "    <tr>\n",
       "      <th>3</th>\n",
       "      <td>ABELARDO CAMARINHA</td>\n",
       "      <td>141463.0</td>\n",
       "      <td>329.0</td>\n",
       "      <td>2011</td>\n",
       "      <td>SP</td>\n",
       "      <td>PSB</td>\n",
       "      <td>54.0</td>\n",
       "      <td>3</td>\n",
       "      <td>COMBUSTÍVEIS E LUBRIFICANTES.</td>\n",
       "      <td>1</td>\n",
       "      <td>...</td>\n",
       "      <td>5</td>\n",
       "      <td>2014</td>\n",
       "      <td>0</td>\n",
       "      <td>NaN</td>\n",
       "      <td>NaN</td>\n",
       "      <td>1122638</td>\n",
       "      <td>4703.0</td>\n",
       "      <td>0.0</td>\n",
       "      <td>1772</td>\n",
       "      <td>5446454</td>\n",
       "    </tr>\n",
       "    <tr>\n",
       "      <th>4</th>\n",
       "      <td>ABELARDO CAMARINHA</td>\n",
       "      <td>141463.0</td>\n",
       "      <td>329.0</td>\n",
       "      <td>2011</td>\n",
       "      <td>SP</td>\n",
       "      <td>PSB</td>\n",
       "      <td>54.0</td>\n",
       "      <td>3</td>\n",
       "      <td>COMBUSTÍVEIS E LUBRIFICANTES.</td>\n",
       "      <td>1</td>\n",
       "      <td>...</td>\n",
       "      <td>1</td>\n",
       "      <td>2014</td>\n",
       "      <td>0</td>\n",
       "      <td>NaN</td>\n",
       "      <td>NaN</td>\n",
       "      <td>1090732</td>\n",
       "      <td>4561.0</td>\n",
       "      <td>0.0</td>\n",
       "      <td>1772</td>\n",
       "      <td>5335354</td>\n",
       "    </tr>\n",
       "  </tbody>\n",
       "</table>\n",
       "<p>5 rows × 29 columns</p>\n",
       "</div>"
      ],
      "text/plain": [
       "    txNomeParlamentar  idecadastro  nuCarteiraParlamentar  nuLegislatura sgUF  \\\n",
       "0  ABELARDO CAMARINHA     141463.0                  329.0           2011   SP   \n",
       "1  ABELARDO CAMARINHA     141463.0                  329.0           2011   SP   \n",
       "2  ABELARDO CAMARINHA     141463.0                  329.0           2011   SP   \n",
       "3  ABELARDO CAMARINHA     141463.0                  329.0           2011   SP   \n",
       "4  ABELARDO CAMARINHA     141463.0                  329.0           2011   SP   \n",
       "\n",
       "  sgPartido  codLegislatura  numSubCota                   txtDescricao  \\\n",
       "0       PSB            54.0           3  COMBUSTÍVEIS E LUBRIFICANTES.   \n",
       "1       PSB            54.0           3  COMBUSTÍVEIS E LUBRIFICANTES.   \n",
       "2       PSB            54.0           3  COMBUSTÍVEIS E LUBRIFICANTES.   \n",
       "3       PSB            54.0           3  COMBUSTÍVEIS E LUBRIFICANTES.   \n",
       "4       PSB            54.0           3  COMBUSTÍVEIS E LUBRIFICANTES.   \n",
       "\n",
       "   numEspecificacaoSubCota      ...      numMes numAno  numParcela  \\\n",
       "0                        1      ...           3   2014           0   \n",
       "1                        1      ...           6   2014           0   \n",
       "2                        1      ...           7   2014           0   \n",
       "3                        1      ...           5   2014           0   \n",
       "4                        1      ...           1   2014           0   \n",
       "\n",
       "  txtPassageiro  txtTrecho  numLote numRessarcimento vlrRestituicao  \\\n",
       "0           NaN        NaN  1107916           4646.0            0.0   \n",
       "1           NaN        NaN  1128219           4721.0            0.0   \n",
       "2           NaN        NaN  1131441           4741.0            0.0   \n",
       "3           NaN        NaN  1122638           4703.0            0.0   \n",
       "4           NaN        NaN  1090732           4561.0            0.0   \n",
       "\n",
       "  nuDeputadoId  ideDocumento  \n",
       "0         1772       5393987  \n",
       "1         1772       5466596  \n",
       "2         1772       5479339  \n",
       "3         1772       5446454  \n",
       "4         1772       5335354  \n",
       "\n",
       "[5 rows x 29 columns]"
      ]
     },
     "execution_count": 5,
     "metadata": {},
     "output_type": "execute_result"
    }
   ],
   "source": [
    "df.head()"
   ]
  },
  {
   "cell_type": "code",
   "execution_count": 6,
   "metadata": {},
   "outputs": [
    {
     "data": {
      "text/plain": [
       "1404379"
      ]
     },
     "execution_count": 6,
     "metadata": {},
     "output_type": "execute_result"
    }
   ],
   "source": [
    "len(df)"
   ]
  },
  {
   "cell_type": "code",
   "execution_count": 7,
   "metadata": {},
   "outputs": [
    {
     "data": {
      "text/plain": [
       "Index(['txNomeParlamentar', 'idecadastro', 'nuCarteiraParlamentar',\n",
       "       'nuLegislatura', 'sgUF', 'sgPartido', 'codLegislatura', 'numSubCota',\n",
       "       'txtDescricao', 'numEspecificacaoSubCota', 'txtDescricaoEspecificacao',\n",
       "       'txtFornecedor', 'txtCNPJCPF', 'txtNumero', 'indTipoDocumento',\n",
       "       'datEmissao', 'vlrDocumento', 'vlrGlosa', 'vlrLiquido', 'numMes',\n",
       "       'numAno', 'numParcela', 'txtPassageiro', 'txtTrecho', 'numLote',\n",
       "       'numRessarcimento', 'vlrRestituicao', 'nuDeputadoId', 'ideDocumento'],\n",
       "      dtype='object')"
      ]
     },
     "execution_count": 7,
     "metadata": {},
     "output_type": "execute_result"
    }
   ],
   "source": [
    "df.columns"
   ]
  },
  {
   "cell_type": "code",
   "execution_count": 8,
   "metadata": {},
   "outputs": [],
   "source": [
    "df = df.drop(['idecadastro', 'nuCarteiraParlamentar', 'txtDescricaoEspecificacao',\n",
    "         'nuLegislatura', 'numSubCota', 'numEspecificacaoSubCota',\n",
    "         'txtCNPJCPF', 'txtNumero', 'numLote','nuDeputadoId',\n",
    "         'ideDocumento', 'numParcela', 'indTipoDocumento', 'numRessarcimento', 'codLegislatura',\n",
    "              'datEmissao', 'vlrGlosa', 'vlrDocumento', 'vlrRestituicao'], axis=1)"
   ]
  },
  {
   "cell_type": "markdown",
   "metadata": {},
   "source": [
    "# Limpeza dos dados"
   ]
  },
  {
   "cell_type": "markdown",
   "metadata": {},
   "source": [
    "## Removendo os NANs:"
   ]
  },
  {
   "cell_type": "code",
   "execution_count": 9,
   "metadata": {},
   "outputs": [
    {
     "name": "stdout",
     "output_type": "stream",
     "text": [
      "Total Train Features with NaN Values = 4\n",
      "Features with NaN => ['sgUF', 'sgPartido', 'txtPassageiro', 'txtTrecho']\n"
     ]
    }
   ],
   "source": [
    "print(\"Total Train Features with NaN Values = \" + str(df.columns[df.isnull().sum() != 0].size))\n",
    "if (df.columns[df.isnull().sum() != 0].size):\n",
    "    print(\"Features with NaN => {}\".format(list(df.columns[df.isnull().sum() != 0])))\n",
    "    df[df.columns[df.isnull().sum() != 0]].isnull().sum().sort_values(ascending = False)"
   ]
  },
  {
   "cell_type": "code",
   "execution_count": 10,
   "metadata": {},
   "outputs": [],
   "source": [
    "df_nan = (df.isnull().sum()).to_frame() "
   ]
  },
  {
   "cell_type": "code",
   "execution_count": 11,
   "metadata": {},
   "outputs": [],
   "source": [
    "df_nan.rename(columns={0:'qtd_nan'}, inplace=True) "
   ]
  },
  {
   "cell_type": "code",
   "execution_count": 12,
   "metadata": {},
   "outputs": [
    {
     "data": {
      "text/html": [
       "<div>\n",
       "<style scoped>\n",
       "    .dataframe tbody tr th:only-of-type {\n",
       "        vertical-align: middle;\n",
       "    }\n",
       "\n",
       "    .dataframe tbody tr th {\n",
       "        vertical-align: top;\n",
       "    }\n",
       "\n",
       "    .dataframe thead th {\n",
       "        text-align: right;\n",
       "    }\n",
       "</style>\n",
       "<table border=\"1\" class=\"dataframe\">\n",
       "  <thead>\n",
       "    <tr style=\"text-align: right;\">\n",
       "      <th></th>\n",
       "      <th>qtd_nan</th>\n",
       "    </tr>\n",
       "  </thead>\n",
       "  <tbody>\n",
       "    <tr>\n",
       "      <th>txtPassageiro</th>\n",
       "      <td>962604</td>\n",
       "    </tr>\n",
       "    <tr>\n",
       "      <th>txtTrecho</th>\n",
       "      <td>955203</td>\n",
       "    </tr>\n",
       "    <tr>\n",
       "      <th>sgUF</th>\n",
       "      <td>3106</td>\n",
       "    </tr>\n",
       "    <tr>\n",
       "      <th>sgPartido</th>\n",
       "      <td>3106</td>\n",
       "    </tr>\n",
       "    <tr>\n",
       "      <th>txNomeParlamentar</th>\n",
       "      <td>0</td>\n",
       "    </tr>\n",
       "    <tr>\n",
       "      <th>txtDescricao</th>\n",
       "      <td>0</td>\n",
       "    </tr>\n",
       "    <tr>\n",
       "      <th>txtFornecedor</th>\n",
       "      <td>0</td>\n",
       "    </tr>\n",
       "    <tr>\n",
       "      <th>vlrLiquido</th>\n",
       "      <td>0</td>\n",
       "    </tr>\n",
       "    <tr>\n",
       "      <th>numMes</th>\n",
       "      <td>0</td>\n",
       "    </tr>\n",
       "    <tr>\n",
       "      <th>numAno</th>\n",
       "      <td>0</td>\n",
       "    </tr>\n",
       "  </tbody>\n",
       "</table>\n",
       "</div>"
      ],
      "text/plain": [
       "                   qtd_nan\n",
       "txtPassageiro       962604\n",
       "txtTrecho           955203\n",
       "sgUF                  3106\n",
       "sgPartido             3106\n",
       "txNomeParlamentar        0\n",
       "txtDescricao             0\n",
       "txtFornecedor            0\n",
       "vlrLiquido               0\n",
       "numMes                   0\n",
       "numAno                   0"
      ]
     },
     "execution_count": 12,
     "metadata": {},
     "output_type": "execute_result"
    }
   ],
   "source": [
    "df_nan.sort_values('qtd_nan', ascending=False) "
   ]
  },
  {
   "cell_type": "code",
   "execution_count": 13,
   "metadata": {},
   "outputs": [],
   "source": [
    "df = df[pd.notnull(df.sgUF)]"
   ]
  },
  {
   "cell_type": "code",
   "execution_count": 14,
   "metadata": {},
   "outputs": [],
   "source": [
    "df_nan = (df.isnull().sum()).to_frame() "
   ]
  },
  {
   "cell_type": "code",
   "execution_count": 15,
   "metadata": {},
   "outputs": [],
   "source": [
    "df_nan.rename(columns={0:'qtd_nan'}, inplace=True) "
   ]
  },
  {
   "cell_type": "code",
   "execution_count": 16,
   "metadata": {},
   "outputs": [
    {
     "data": {
      "text/html": [
       "<div>\n",
       "<style scoped>\n",
       "    .dataframe tbody tr th:only-of-type {\n",
       "        vertical-align: middle;\n",
       "    }\n",
       "\n",
       "    .dataframe tbody tr th {\n",
       "        vertical-align: top;\n",
       "    }\n",
       "\n",
       "    .dataframe thead th {\n",
       "        text-align: right;\n",
       "    }\n",
       "</style>\n",
       "<table border=\"1\" class=\"dataframe\">\n",
       "  <thead>\n",
       "    <tr style=\"text-align: right;\">\n",
       "      <th></th>\n",
       "      <th>qtd_nan</th>\n",
       "    </tr>\n",
       "  </thead>\n",
       "  <tbody>\n",
       "    <tr>\n",
       "      <th>txtPassageiro</th>\n",
       "      <td>959651</td>\n",
       "    </tr>\n",
       "    <tr>\n",
       "      <th>txtTrecho</th>\n",
       "      <td>952436</td>\n",
       "    </tr>\n",
       "    <tr>\n",
       "      <th>txNomeParlamentar</th>\n",
       "      <td>0</td>\n",
       "    </tr>\n",
       "    <tr>\n",
       "      <th>sgUF</th>\n",
       "      <td>0</td>\n",
       "    </tr>\n",
       "    <tr>\n",
       "      <th>sgPartido</th>\n",
       "      <td>0</td>\n",
       "    </tr>\n",
       "    <tr>\n",
       "      <th>txtDescricao</th>\n",
       "      <td>0</td>\n",
       "    </tr>\n",
       "    <tr>\n",
       "      <th>txtFornecedor</th>\n",
       "      <td>0</td>\n",
       "    </tr>\n",
       "    <tr>\n",
       "      <th>vlrLiquido</th>\n",
       "      <td>0</td>\n",
       "    </tr>\n",
       "    <tr>\n",
       "      <th>numMes</th>\n",
       "      <td>0</td>\n",
       "    </tr>\n",
       "    <tr>\n",
       "      <th>numAno</th>\n",
       "      <td>0</td>\n",
       "    </tr>\n",
       "  </tbody>\n",
       "</table>\n",
       "</div>"
      ],
      "text/plain": [
       "                   qtd_nan\n",
       "txtPassageiro       959651\n",
       "txtTrecho           952436\n",
       "txNomeParlamentar        0\n",
       "sgUF                     0\n",
       "sgPartido                0\n",
       "txtDescricao             0\n",
       "txtFornecedor            0\n",
       "vlrLiquido               0\n",
       "numMes                   0\n",
       "numAno                   0"
      ]
     },
     "execution_count": 16,
     "metadata": {},
     "output_type": "execute_result"
    }
   ],
   "source": [
    "df_nan.sort_values('qtd_nan', ascending=False) "
   ]
  },
  {
   "cell_type": "code",
   "execution_count": 17,
   "metadata": {
    "scrolled": true
   },
   "outputs": [
    {
     "data": {
      "text/html": [
       "<div>\n",
       "<style scoped>\n",
       "    .dataframe tbody tr th:only-of-type {\n",
       "        vertical-align: middle;\n",
       "    }\n",
       "\n",
       "    .dataframe tbody tr th {\n",
       "        vertical-align: top;\n",
       "    }\n",
       "\n",
       "    .dataframe thead th {\n",
       "        text-align: right;\n",
       "    }\n",
       "</style>\n",
       "<table border=\"1\" class=\"dataframe\">\n",
       "  <thead>\n",
       "    <tr style=\"text-align: right;\">\n",
       "      <th></th>\n",
       "      <th>txNomeParlamentar</th>\n",
       "      <th>sgUF</th>\n",
       "      <th>sgPartido</th>\n",
       "      <th>txtDescricao</th>\n",
       "      <th>txtFornecedor</th>\n",
       "      <th>vlrLiquido</th>\n",
       "      <th>numMes</th>\n",
       "      <th>numAno</th>\n",
       "      <th>txtPassageiro</th>\n",
       "      <th>txtTrecho</th>\n",
       "    </tr>\n",
       "  </thead>\n",
       "  <tbody>\n",
       "    <tr>\n",
       "      <th>0</th>\n",
       "      <td>ABELARDO CAMARINHA</td>\n",
       "      <td>SP</td>\n",
       "      <td>PSB</td>\n",
       "      <td>COMBUSTÍVEIS E LUBRIFICANTES.</td>\n",
       "      <td>AUTO POSTO AEROPORTO LTDA</td>\n",
       "      <td>100</td>\n",
       "      <td>3</td>\n",
       "      <td>2014</td>\n",
       "      <td>NaN</td>\n",
       "      <td>NaN</td>\n",
       "    </tr>\n",
       "    <tr>\n",
       "      <th>1</th>\n",
       "      <td>ABELARDO CAMARINHA</td>\n",
       "      <td>SP</td>\n",
       "      <td>PSB</td>\n",
       "      <td>COMBUSTÍVEIS E LUBRIFICANTES.</td>\n",
       "      <td>AUTO POSTO AEROPORTO LTDA</td>\n",
       "      <td>180</td>\n",
       "      <td>6</td>\n",
       "      <td>2014</td>\n",
       "      <td>NaN</td>\n",
       "      <td>NaN</td>\n",
       "    </tr>\n",
       "    <tr>\n",
       "      <th>2</th>\n",
       "      <td>ABELARDO CAMARINHA</td>\n",
       "      <td>SP</td>\n",
       "      <td>PSB</td>\n",
       "      <td>COMBUSTÍVEIS E LUBRIFICANTES.</td>\n",
       "      <td>AUTO POSTO AEROPORTO LTDA</td>\n",
       "      <td>145,06</td>\n",
       "      <td>7</td>\n",
       "      <td>2014</td>\n",
       "      <td>NaN</td>\n",
       "      <td>NaN</td>\n",
       "    </tr>\n",
       "    <tr>\n",
       "      <th>3</th>\n",
       "      <td>ABELARDO CAMARINHA</td>\n",
       "      <td>SP</td>\n",
       "      <td>PSB</td>\n",
       "      <td>COMBUSTÍVEIS E LUBRIFICANTES.</td>\n",
       "      <td>Auto Posto Aguas Claras</td>\n",
       "      <td>100</td>\n",
       "      <td>5</td>\n",
       "      <td>2014</td>\n",
       "      <td>NaN</td>\n",
       "      <td>NaN</td>\n",
       "    </tr>\n",
       "    <tr>\n",
       "      <th>4</th>\n",
       "      <td>ABELARDO CAMARINHA</td>\n",
       "      <td>SP</td>\n",
       "      <td>PSB</td>\n",
       "      <td>COMBUSTÍVEIS E LUBRIFICANTES.</td>\n",
       "      <td>Auto Posto Aguas Claras</td>\n",
       "      <td>95,07</td>\n",
       "      <td>1</td>\n",
       "      <td>2014</td>\n",
       "      <td>NaN</td>\n",
       "      <td>NaN</td>\n",
       "    </tr>\n",
       "  </tbody>\n",
       "</table>\n",
       "</div>"
      ],
      "text/plain": [
       "    txNomeParlamentar sgUF sgPartido                   txtDescricao  \\\n",
       "0  ABELARDO CAMARINHA   SP       PSB  COMBUSTÍVEIS E LUBRIFICANTES.   \n",
       "1  ABELARDO CAMARINHA   SP       PSB  COMBUSTÍVEIS E LUBRIFICANTES.   \n",
       "2  ABELARDO CAMARINHA   SP       PSB  COMBUSTÍVEIS E LUBRIFICANTES.   \n",
       "3  ABELARDO CAMARINHA   SP       PSB  COMBUSTÍVEIS E LUBRIFICANTES.   \n",
       "4  ABELARDO CAMARINHA   SP       PSB  COMBUSTÍVEIS E LUBRIFICANTES.   \n",
       "\n",
       "               txtFornecedor vlrLiquido  numMes  numAno txtPassageiro  \\\n",
       "0  AUTO POSTO AEROPORTO LTDA        100       3    2014           NaN   \n",
       "1  AUTO POSTO AEROPORTO LTDA        180       6    2014           NaN   \n",
       "2  AUTO POSTO AEROPORTO LTDA     145,06       7    2014           NaN   \n",
       "3    Auto Posto Aguas Claras        100       5    2014           NaN   \n",
       "4    Auto Posto Aguas Claras      95,07       1    2014           NaN   \n",
       "\n",
       "  txtTrecho  \n",
       "0       NaN  \n",
       "1       NaN  \n",
       "2       NaN  \n",
       "3       NaN  \n",
       "4       NaN  "
      ]
     },
     "execution_count": 17,
     "metadata": {},
     "output_type": "execute_result"
    }
   ],
   "source": [
    "df.head()"
   ]
  },
  {
   "cell_type": "markdown",
   "metadata": {},
   "source": [
    "## Verificando valores Inválidos"
   ]
  },
  {
   "cell_type": "code",
   "execution_count": 18,
   "metadata": {},
   "outputs": [
    {
     "data": {
      "text/plain": [
       "SP    222251\n",
       "MG    174686\n",
       "RJ    124242\n",
       "RS    117515\n",
       "BA    109958\n",
       "PR    103366\n",
       "PE     73806\n",
       "SC     63570\n",
       "CE     50085\n",
       "PA     38854\n",
       "MA     34411\n",
       "GO     26167\n",
       "PB     25315\n",
       "ES     22383\n",
       "AL     21207\n",
       "PI     20886\n",
       "RN     20725\n",
       "MT     19778\n",
       "MS     18163\n",
       "RO     18075\n",
       "AC     17288\n",
       "SE     15283\n",
       "TO     14963\n",
       "RR     13429\n",
       "AM     13063\n",
       "AP     13042\n",
       "DF      8762\n",
       "Name: sgUF, dtype: int64"
      ]
     },
     "execution_count": 18,
     "metadata": {},
     "output_type": "execute_result"
    }
   ],
   "source": [
    "df.sgUF.value_counts()"
   ]
  },
  {
   "cell_type": "code",
   "execution_count": 19,
   "metadata": {},
   "outputs": [
    {
     "data": {
      "text/plain": [
       "PT         199604\n",
       "PP         147359\n",
       "MDB        139749\n",
       "PSDB       137279\n",
       "DEM        103809\n",
       "PR         101815\n",
       "PSD         92182\n",
       "PSB         69597\n",
       "PDT         53596\n",
       "PODE        39871\n",
       "PCdoB       39774\n",
       "PTB         38605\n",
       "PRB         36898\n",
       "SD          26295\n",
       "PROS        26179\n",
       "PPS         24077\n",
       "PMDB        18259\n",
       "PSC         17808\n",
       "PV          16811\n",
       "PSL         14580\n",
       "PSOL        14423\n",
       "PATRI       13291\n",
       "AVANTE      12609\n",
       "PHS          6349\n",
       "REDE         4046\n",
       "PMN          1692\n",
       "PPL          1607\n",
       "PRP           941\n",
       "PTdoB         740\n",
       "S.PART.       684\n",
       "PEN           267\n",
       "PRTB          253\n",
       "PSDC          224\n",
       "Name: sgPartido, dtype: int64"
      ]
     },
     "execution_count": 19,
     "metadata": {},
     "output_type": "execute_result"
    }
   ],
   "source": [
    "df.sgPartido.value_counts()"
   ]
  },
  {
   "cell_type": "code",
   "execution_count": 20,
   "metadata": {},
   "outputs": [
    {
     "data": {
      "text/plain": [
       "Emissão Bilhete Aéreo                                           439963\n",
       "COMBUSTÍVEIS E LUBRIFICANTES.                                   282887\n",
       "TELEFONIA                                                       148333\n",
       "SERVIÇOS POSTAIS                                                118738\n",
       "SERVIÇO DE TÁXI, PEDÁGIO E ESTACIONAMENTO                       101192\n",
       "FORNECIMENTO DE ALIMENTAÇÃO DO PARLAMENTAR                      100738\n",
       "MANUTENÇÃO DE ESCRITÓRIO DE APOIO À ATIVIDADE PARLAMENTAR        87943\n",
       "DIVULGAÇÃO DA ATIVIDADE PARLAMENTAR.                             41195\n",
       "HOSPEDAGEM ,EXCETO DO PARLAMENTAR NO DISTRITO FEDERAL.           24356\n",
       "LOCAÇÃO OU FRETAMENTO DE VEÍCULOS AUTOMOTORES                    23187\n",
       "CONSULTORIAS, PESQUISAS E TRABALHOS TÉCNICOS.                    11080\n",
       "PASSAGENS AÉREAS                                                  9000\n",
       "PASSAGENS TERRESTRES, MARÍTIMAS OU FLUVIAIS                       4179\n",
       "SERVIÇO DE SEGURANÇA PRESTADO POR EMPRESA ESPECIALIZADA.          3594\n",
       "ASSINATURA DE PUBLICAÇÕES                                         2931\n",
       "LOCAÇÃO OU FRETAMENTO DE AERONAVES                                1551\n",
       "LOCAÇÃO OU FRETAMENTO DE EMBARCAÇÕES                               177\n",
       "LOCAÇÃO DE VEÍCULOS AUTOMOTORES OU FRETAMENTO DE EMBARCAÇÕES       154\n",
       "PARTICIPAÇÃO EM CURSO, PALESTRA OU EVENTO SIMILAR                   75\n",
       "Name: txtDescricao, dtype: int64"
      ]
     },
     "execution_count": 20,
     "metadata": {},
     "output_type": "execute_result"
    }
   ],
   "source": [
    "df.txtDescricao.value_counts()"
   ]
  },
  {
   "cell_type": "code",
   "execution_count": 21,
   "metadata": {
    "scrolled": false
   },
   "outputs": [
    {
     "data": {
      "text/plain": [
       "txNomeParlamentar    object\n",
       "sgUF                 object\n",
       "sgPartido            object\n",
       "txtDescricao         object\n",
       "txtFornecedor        object\n",
       "vlrLiquido           object\n",
       "numMes                int64\n",
       "numAno                int64\n",
       "txtPassageiro        object\n",
       "txtTrecho            object\n",
       "dtype: object"
      ]
     },
     "execution_count": 21,
     "metadata": {},
     "output_type": "execute_result"
    }
   ],
   "source": [
    "df.dtypes"
   ]
  },
  {
   "cell_type": "markdown",
   "metadata": {},
   "source": [
    "## Removendo os duplicados"
   ]
  },
  {
   "cell_type": "code",
   "execution_count": 22,
   "metadata": {},
   "outputs": [
    {
     "data": {
      "text/plain": [
       "1401273"
      ]
     },
     "execution_count": 22,
     "metadata": {},
     "output_type": "execute_result"
    }
   ],
   "source": [
    "len(df)"
   ]
  },
  {
   "cell_type": "code",
   "execution_count": 23,
   "metadata": {},
   "outputs": [],
   "source": [
    "df = df.drop_duplicates()"
   ]
  },
  {
   "cell_type": "code",
   "execution_count": 24,
   "metadata": {
    "scrolled": true
   },
   "outputs": [
    {
     "data": {
      "text/plain": [
       "1244988"
      ]
     },
     "execution_count": 24,
     "metadata": {},
     "output_type": "execute_result"
    }
   ],
   "source": [
    "len(df)"
   ]
  },
  {
   "cell_type": "code",
   "execution_count": 25,
   "metadata": {},
   "outputs": [],
   "source": [
    "df_bilhete = df.loc[df['txtDescricao'] == 'Emissão Bilhete Aéreo']\n",
    "df_bilhete = df_bilhete[pd.notnull(df_bilhete.txtTrecho)]\n",
    "df_bilhete = df_bilhete[pd.notnull(df_bilhete.txtPassageiro)]\n",
    "df_bilhete = df_bilhete[~df_bilhete.txtTrecho.str.contains('BSB')]\n",
    "\n",
    "df_n_bilhete = df.loc[df['txtDescricao'] != 'Emissão Bilhete Aéreo']\n",
    "df = pd.concat([df_bilhete, df_n_bilhete])"
   ]
  },
  {
   "cell_type": "code",
   "execution_count": 26,
   "metadata": {},
   "outputs": [],
   "source": [
    "df_passagem = df.loc[df['txtDescricao'] == 'PASSAGENS AÉREAS']\n",
    "df_passagem = df_passagem[pd.notnull(df_passagem.txtTrecho)]\n",
    "df_passagem = df_passagem[pd.notnull(df_passagem.txtPassageiro)]\n",
    "\n",
    "df_passagem = df_passagem[~df_passagem.txtTrecho.str.contains('brasília')]\n",
    "df_passagem = df_passagem[~df_passagem.txtTrecho.str.contains('Brasília')]\n",
    "df_passagem = df_passagem[~df_passagem.txtTrecho.str.contains('brasilia')]\n",
    "df_passagem = df_passagem[~df_passagem.txtTrecho.str.contains('Brasilia')]\n",
    "df_passagem = df_passagem[~df_passagem.txtTrecho.str.contains('BSB')]\n",
    "df_passagem = df_passagem[~df_passagem.txtTrecho.str.contains('bsb')]\n",
    "df_passagem = df_passagem[~df_passagem.txtTrecho.str.contains('BRASÍLIA')]\n",
    "df_passagem = df_passagem[~df_passagem.txtTrecho.str.contains('BRASILIA')]\n",
    "\n",
    "df_n_passagem = df.loc[df['txtDescricao'] != 'PASSAGENS AÉREAS']\n",
    "df = pd.concat([df_passagem, df_n_passagem])"
   ]
  },
  {
   "cell_type": "code",
   "execution_count": 27,
   "metadata": {},
   "outputs": [],
   "source": [
    "df = df.drop(['txtTrecho', 'txtPassageiro', 'txtFornecedor'], axis=1)"
   ]
  },
  {
   "cell_type": "markdown",
   "metadata": {},
   "source": [
    "# Transformação dos dados"
   ]
  },
  {
   "cell_type": "markdown",
   "metadata": {},
   "source": [
    "## Arrumando os tipos dos atributos"
   ]
  },
  {
   "cell_type": "code",
   "execution_count": 28,
   "metadata": {},
   "outputs": [],
   "source": [
    "df = df[~df.vlrLiquido.str.contains('-')]\n",
    "df['vlrLiquido'] = df.vlrLiquido.str.replace(',', '.')\n",
    "# df['vlrGlosa'] = df.vlrGlosa.str.replace(',', '.')\n",
    "# df['vlrDocumento'] = df.vlrDocumento.str.replace(',', '.')"
   ]
  },
  {
   "cell_type": "code",
   "execution_count": 29,
   "metadata": {},
   "outputs": [
    {
     "data": {
      "text/plain": [
       "txNomeParlamentar    object\n",
       "sgUF                 object\n",
       "sgPartido            object\n",
       "txtDescricao         object\n",
       "vlrLiquido           object\n",
       "numMes                int64\n",
       "numAno                int64\n",
       "dtype: object"
      ]
     },
     "execution_count": 29,
     "metadata": {},
     "output_type": "execute_result"
    }
   ],
   "source": [
    "df.dtypes"
   ]
  },
  {
   "cell_type": "code",
   "execution_count": 30,
   "metadata": {},
   "outputs": [],
   "source": [
    "df['vlrLiquido'] = df.vlrLiquido.astype(float)\n",
    "# df['vlrGlosa'] = df.vlrGlosa.astype(float)\n",
    "# df['vlrDocumento'] = df.vlrDocumento.astype(float)"
   ]
  },
  {
   "cell_type": "code",
   "execution_count": 31,
   "metadata": {},
   "outputs": [
    {
     "data": {
      "text/html": [
       "<div>\n",
       "<style scoped>\n",
       "    .dataframe tbody tr th:only-of-type {\n",
       "        vertical-align: middle;\n",
       "    }\n",
       "\n",
       "    .dataframe tbody tr th {\n",
       "        vertical-align: top;\n",
       "    }\n",
       "\n",
       "    .dataframe thead th {\n",
       "        text-align: right;\n",
       "    }\n",
       "</style>\n",
       "<table border=\"1\" class=\"dataframe\">\n",
       "  <thead>\n",
       "    <tr style=\"text-align: right;\">\n",
       "      <th></th>\n",
       "      <th>txNomeParlamentar</th>\n",
       "      <th>sgUF</th>\n",
       "      <th>sgPartido</th>\n",
       "      <th>txtDescricao</th>\n",
       "      <th>vlrLiquido</th>\n",
       "      <th>numMes</th>\n",
       "      <th>numAno</th>\n",
       "    </tr>\n",
       "  </thead>\n",
       "  <tbody>\n",
       "  </tbody>\n",
       "</table>\n",
       "</div>"
      ],
      "text/plain": [
       "Empty DataFrame\n",
       "Columns: [txNomeParlamentar, sgUF, sgPartido, txtDescricao, vlrLiquido, numMes, numAno]\n",
       "Index: []"
      ]
     },
     "execution_count": 31,
     "metadata": {},
     "output_type": "execute_result"
    }
   ],
   "source": [
    "df[df.vlrLiquido == 0]"
   ]
  },
  {
   "cell_type": "markdown",
   "metadata": {},
   "source": [
    "## Normalização"
   ]
  },
  {
   "cell_type": "code",
   "execution_count": 32,
   "metadata": {},
   "outputs": [],
   "source": [
    "df_numeric = df.select_dtypes(include='float')\n",
    "df['vlrLiquido'] = df_numeric.fillna(0).apply(minmax_scale)"
   ]
  },
  {
   "cell_type": "markdown",
   "metadata": {},
   "source": [
    "## Histogramas e análises"
   ]
  },
  {
   "cell_type": "code",
   "execution_count": 33,
   "metadata": {
    "scrolled": true
   },
   "outputs": [
    {
     "data": {
      "text/html": [
       "<div>\n",
       "<style scoped>\n",
       "    .dataframe tbody tr th:only-of-type {\n",
       "        vertical-align: middle;\n",
       "    }\n",
       "\n",
       "    .dataframe tbody tr th {\n",
       "        vertical-align: top;\n",
       "    }\n",
       "\n",
       "    .dataframe thead th {\n",
       "        text-align: right;\n",
       "    }\n",
       "</style>\n",
       "<table border=\"1\" class=\"dataframe\">\n",
       "  <thead>\n",
       "    <tr style=\"text-align: right;\">\n",
       "      <th></th>\n",
       "      <th>vlrLiquido</th>\n",
       "      <th>numMes</th>\n",
       "      <th>numAno</th>\n",
       "    </tr>\n",
       "  </thead>\n",
       "  <tbody>\n",
       "    <tr>\n",
       "      <th>count</th>\n",
       "      <td>888890.000000</td>\n",
       "      <td>888890.000000</td>\n",
       "      <td>888890.000000</td>\n",
       "    </tr>\n",
       "    <tr>\n",
       "      <th>mean</th>\n",
       "      <td>0.003563</td>\n",
       "      <td>6.463213</td>\n",
       "      <td>2015.485699</td>\n",
       "    </tr>\n",
       "    <tr>\n",
       "      <th>std</th>\n",
       "      <td>0.012697</td>\n",
       "      <td>3.325764</td>\n",
       "      <td>1.103099</td>\n",
       "    </tr>\n",
       "    <tr>\n",
       "      <th>min</th>\n",
       "      <td>0.000000</td>\n",
       "      <td>1.000000</td>\n",
       "      <td>2014.000000</td>\n",
       "    </tr>\n",
       "    <tr>\n",
       "      <th>25%</th>\n",
       "      <td>0.000240</td>\n",
       "      <td>4.000000</td>\n",
       "      <td>2015.000000</td>\n",
       "    </tr>\n",
       "    <tr>\n",
       "      <th>50%</th>\n",
       "      <td>0.000637</td>\n",
       "      <td>6.000000</td>\n",
       "      <td>2015.000000</td>\n",
       "    </tr>\n",
       "    <tr>\n",
       "      <th>75%</th>\n",
       "      <td>0.001632</td>\n",
       "      <td>9.000000</td>\n",
       "      <td>2016.000000</td>\n",
       "    </tr>\n",
       "    <tr>\n",
       "      <th>max</th>\n",
       "      <td>1.000000</td>\n",
       "      <td>12.000000</td>\n",
       "      <td>2017.000000</td>\n",
       "    </tr>\n",
       "  </tbody>\n",
       "</table>\n",
       "</div>"
      ],
      "text/plain": [
       "          vlrLiquido         numMes         numAno\n",
       "count  888890.000000  888890.000000  888890.000000\n",
       "mean        0.003563       6.463213    2015.485699\n",
       "std         0.012697       3.325764       1.103099\n",
       "min         0.000000       1.000000    2014.000000\n",
       "25%         0.000240       4.000000    2015.000000\n",
       "50%         0.000637       6.000000    2015.000000\n",
       "75%         0.001632       9.000000    2016.000000\n",
       "max         1.000000      12.000000    2017.000000"
      ]
     },
     "execution_count": 33,
     "metadata": {},
     "output_type": "execute_result"
    }
   ],
   "source": [
    "df.describe()"
   ]
  },
  {
   "cell_type": "markdown",
   "metadata": {},
   "source": [
    "### Quantidade de cada tipo de gasto"
   ]
  },
  {
   "cell_type": "code",
   "execution_count": 34,
   "metadata": {
    "scrolled": true
   },
   "outputs": [
    {
     "data": {
      "text/plain": [
       "<matplotlib.axes._subplots.AxesSubplot at 0x1a14559320>"
      ]
     },
     "execution_count": 34,
     "metadata": {},
     "output_type": "execute_result"
    }
   ],
   "source": [
    "df.txtDescricao.value_counts().plot(kind='barh', figsize=(8,10))"
   ]
  },
  {
   "cell_type": "markdown",
   "metadata": {},
   "source": [
    "### Quantidade de parlamentares por estado"
   ]
  },
  {
   "cell_type": "code",
   "execution_count": 35,
   "metadata": {
    "scrolled": false
   },
   "outputs": [
    {
     "data": {
      "text/plain": [
       "<matplotlib.axes._subplots.AxesSubplot at 0x1a146cc2b0>"
      ]
     },
     "execution_count": 35,
     "metadata": {},
     "output_type": "execute_result"
    },
    {
     "data": {
      "image/png": "[encoded data removed]",
      "text/plain": [
       "<Figure size 720x720 with 1 Axes>"
      ]
     },
     "metadata": {},
     "output_type": "display_data"
    }
   ],
   "source": [
    "df.sgUF.value_counts().plot(kind='barh', figsize=(10,10))"
   ]
  },
  {
   "cell_type": "markdown",
   "metadata": {},
   "source": [
    "### Gastos por mês"
   ]
  },
  {
   "cell_type": "code",
   "execution_count": 36,
   "metadata": {},
   "outputs": [
    {
     "data": {
      "text/plain": [
       "<matplotlib.axes._subplots.AxesSubplot at 0x1a14773080>"
      ]
     },
     "execution_count": 36,
     "metadata": {},
     "output_type": "execute_result"
    },
    {
     "data": {
      "image/png": "[encoded data removed]",
      "text/plain": [
       "<Figure size 720x720 with 1 Axes>"
      ]
     },
     "metadata": {},
     "output_type": "display_data"
    }
   ],
   "source": [
    "df.groupby('numMes')['vlrLiquido'].sum().sort_index().plot(kind='bar', figsize=(10,10))"
   ]
  },
  {
   "cell_type": "markdown",
   "metadata": {},
   "source": [
    "## Valor gasto por partido proporcional a quantidade de parlamentares"
   ]
  },
  {
   "cell_type": "code",
   "execution_count": 37,
   "metadata": {},
   "outputs": [],
   "source": [
    "# parlamentar_partido = df.groupby('sgPartido').txNomeParlamentar.nunique()\n",
    "# gasto_partido = df.groupby('sgPartido')['vlrLiquido'].sum()\n",
    "# gasto_parlamentar = (gasto_partido / parlamentar_partido)\n",
    "# gasto_parlamentar.sort_values().plot(kind='barh', figsize=(10,10))"
   ]
  },
  {
   "cell_type": "markdown",
   "metadata": {},
   "source": [
    "## Valor gasto por estado proporcional a quantidade de parlamentares"
   ]
  },
  {
   "cell_type": "code",
   "execution_count": 38,
   "metadata": {
    "scrolled": false
   },
   "outputs": [],
   "source": [
    "# parlamentar_uf = (df.groupby('sgUF')['vlrLiquido'].sum()) / (df.groupby('sgUF').txNomeParlamentar.nunique())\n",
    "# parlamentar_uf.sort_values().plot(kind='barh', figsize=(10,10))"
   ]
  },
  {
   "cell_type": "code",
   "execution_count": 39,
   "metadata": {},
   "outputs": [
    {
     "data": {
      "text/html": [
       "<div>\n",
       "<style scoped>\n",
       "    .dataframe tbody tr th:only-of-type {\n",
       "        vertical-align: middle;\n",
       "    }\n",
       "\n",
       "    .dataframe tbody tr th {\n",
       "        vertical-align: top;\n",
       "    }\n",
       "\n",
       "    .dataframe thead th {\n",
       "        text-align: right;\n",
       "    }\n",
       "</style>\n",
       "<table border=\"1\" class=\"dataframe\">\n",
       "  <thead>\n",
       "    <tr style=\"text-align: right;\">\n",
       "      <th></th>\n",
       "      <th>txNomeParlamentar</th>\n",
       "      <th>sgUF</th>\n",
       "      <th>sgPartido</th>\n",
       "      <th>txtDescricao</th>\n",
       "      <th>vlrLiquido</th>\n",
       "      <th>numMes</th>\n",
       "      <th>numAno</th>\n",
       "    </tr>\n",
       "  </thead>\n",
       "  <tbody>\n",
       "    <tr>\n",
       "      <th>3371</th>\n",
       "      <td>AFONSO FLORENCE</td>\n",
       "      <td>BA</td>\n",
       "      <td>PT</td>\n",
       "      <td>PASSAGENS AÉREAS</td>\n",
       "      <td>0.004824</td>\n",
       "      <td>8</td>\n",
       "      <td>2014</td>\n",
       "    </tr>\n",
       "    <tr>\n",
       "      <th>5420</th>\n",
       "      <td>AKIRA OTSUBO</td>\n",
       "      <td>MS</td>\n",
       "      <td>PMDB</td>\n",
       "      <td>PASSAGENS AÉREAS</td>\n",
       "      <td>0.004110</td>\n",
       "      <td>8</td>\n",
       "      <td>2014</td>\n",
       "    </tr>\n",
       "    <tr>\n",
       "      <th>5421</th>\n",
       "      <td>AKIRA OTSUBO</td>\n",
       "      <td>MS</td>\n",
       "      <td>PMDB</td>\n",
       "      <td>PASSAGENS AÉREAS</td>\n",
       "      <td>0.001929</td>\n",
       "      <td>8</td>\n",
       "      <td>2014</td>\n",
       "    </tr>\n",
       "    <tr>\n",
       "      <th>5439</th>\n",
       "      <td>AKIRA OTSUBO</td>\n",
       "      <td>MS</td>\n",
       "      <td>PMDB</td>\n",
       "      <td>PASSAGENS AÉREAS</td>\n",
       "      <td>0.002059</td>\n",
       "      <td>2</td>\n",
       "      <td>2014</td>\n",
       "    </tr>\n",
       "    <tr>\n",
       "      <th>5440</th>\n",
       "      <td>AKIRA OTSUBO</td>\n",
       "      <td>MS</td>\n",
       "      <td>PMDB</td>\n",
       "      <td>PASSAGENS AÉREAS</td>\n",
       "      <td>0.001798</td>\n",
       "      <td>2</td>\n",
       "      <td>2014</td>\n",
       "    </tr>\n",
       "  </tbody>\n",
       "</table>\n",
       "</div>"
      ],
      "text/plain": [
       "     txNomeParlamentar sgUF sgPartido      txtDescricao  vlrLiquido  numMes  \\\n",
       "3371   AFONSO FLORENCE   BA        PT  PASSAGENS AÉREAS    0.004824       8   \n",
       "5420      AKIRA OTSUBO   MS      PMDB  PASSAGENS AÉREAS    0.004110       8   \n",
       "5421      AKIRA OTSUBO   MS      PMDB  PASSAGENS AÉREAS    0.001929       8   \n",
       "5439      AKIRA OTSUBO   MS      PMDB  PASSAGENS AÉREAS    0.002059       2   \n",
       "5440      AKIRA OTSUBO   MS      PMDB  PASSAGENS AÉREAS    0.001798       2   \n",
       "\n",
       "      numAno  \n",
       "3371    2014  \n",
       "5420    2014  \n",
       "5421    2014  \n",
       "5439    2014  \n",
       "5440    2014  "
      ]
     },
     "execution_count": 39,
     "metadata": {},
     "output_type": "execute_result"
    }
   ],
   "source": [
    "df.head()"
   ]
  },
  {
   "cell_type": "code",
   "execution_count": 40,
   "metadata": {},
   "outputs": [
    {
     "data": {
      "text/plain": [
       "<matplotlib.axes._subplots.AxesSubplot at 0x1a14824630>"
      ]
     },
     "execution_count": 40,
     "metadata": {},
     "output_type": "execute_result"
    },
    {
     "data": {
      "image/png": "[encoded data removed]",
      "text/plain": [
       "<Figure size 720x720 with 1 Axes>"
      ]
     },
     "metadata": {},
     "output_type": "display_data"
    }
   ],
   "source": [
    "df.groupby(['txtDescricao'])['vlrLiquido'].mean().sort_values().plot(kind='barh', figsize=(10,10))"
   ]
  },
  {
   "cell_type": "code",
   "execution_count": 41,
   "metadata": {},
   "outputs": [
    {
     "data": {
      "text/plain": [
       "<matplotlib.axes._subplots.AxesSubplot at 0x1a14636710>"
      ]
     },
     "execution_count": 41,
     "metadata": {},
     "output_type": "execute_result"
    },
    {
     "data": {
      "image/png": "[encoded data removed]",
      "text/plain": [
       "<Figure size 720x720 with 1 Axes>"
      ]
     },
     "metadata": {},
     "output_type": "display_data"
    }
   ],
   "source": [
    "df.groupby(['txtDescricao'])['vlrLiquido'].median().sort_values().plot(kind='barh', figsize=(10,10))"
   ]
  },
  {
   "cell_type": "markdown",
   "metadata": {},
   "source": [
    "## TESTE CLASSIFICAÇÃO"
   ]
  },
  {
   "cell_type": "code",
   "execution_count": 42,
   "metadata": {},
   "outputs": [],
   "source": [
    "from sklearn.decomposition import PCA\n",
    "from sklearn.model_selection import train_test_split\n",
    "from sklearn.tree import DecisionTreeClassifier\n",
    "from collections import defaultdict\n",
    "import matplotlib.pyplot as plt\n",
    "import numpy as np\n",
    "from sklearn.preprocessing import MinMaxScaler\n",
    "from sklearn.neighbors import KNeighborsClassifier\n",
    "from sklearn.linear_model import LogisticRegression\n",
    "from sklearn import metrics"
   ]
  },
  {
   "cell_type": "markdown",
   "metadata": {},
   "source": [
    "## Discretização"
   ]
  },
  {
   "cell_type": "code",
   "execution_count": 43,
   "metadata": {},
   "outputs": [],
   "source": [
    "le = LabelEncoder()\n",
    "df = df.apply(le.fit_transform)\n",
    "df = df.drop(['txNomeParlamentar'], axis=1)"
   ]
  },
  {
   "cell_type": "code",
   "execution_count": 44,
   "metadata": {},
   "outputs": [
    {
     "data": {
      "text/html": [
       "<div>\n",
       "<style scoped>\n",
       "    .dataframe tbody tr th:only-of-type {\n",
       "        vertical-align: middle;\n",
       "    }\n",
       "\n",
       "    .dataframe tbody tr th {\n",
       "        vertical-align: top;\n",
       "    }\n",
       "\n",
       "    .dataframe thead th {\n",
       "        text-align: right;\n",
       "    }\n",
       "</style>\n",
       "<table border=\"1\" class=\"dataframe\">\n",
       "  <thead>\n",
       "    <tr style=\"text-align: right;\">\n",
       "      <th></th>\n",
       "      <th>sgUF</th>\n",
       "      <th>sgPartido</th>\n",
       "      <th>txtDescricao</th>\n",
       "      <th>vlrLiquido</th>\n",
       "      <th>numMes</th>\n",
       "      <th>numAno</th>\n",
       "    </tr>\n",
       "  </thead>\n",
       "  <tbody>\n",
       "    <tr>\n",
       "      <th>3371</th>\n",
       "      <td>4</td>\n",
       "      <td>26</td>\n",
       "      <td>13</td>\n",
       "      <td>73289</td>\n",
       "      <td>7</td>\n",
       "      <td>0</td>\n",
       "    </tr>\n",
       "    <tr>\n",
       "      <th>5420</th>\n",
       "      <td>11</td>\n",
       "      <td>8</td>\n",
       "      <td>13</td>\n",
       "      <td>67423</td>\n",
       "      <td>7</td>\n",
       "      <td>0</td>\n",
       "    </tr>\n",
       "    <tr>\n",
       "      <th>5421</th>\n",
       "      <td>11</td>\n",
       "      <td>8</td>\n",
       "      <td>13</td>\n",
       "      <td>38503</td>\n",
       "      <td>7</td>\n",
       "      <td>0</td>\n",
       "    </tr>\n",
       "    <tr>\n",
       "      <th>5439</th>\n",
       "      <td>11</td>\n",
       "      <td>8</td>\n",
       "      <td>13</td>\n",
       "      <td>40687</td>\n",
       "      <td>1</td>\n",
       "      <td>0</td>\n",
       "    </tr>\n",
       "    <tr>\n",
       "      <th>5440</th>\n",
       "      <td>11</td>\n",
       "      <td>8</td>\n",
       "      <td>13</td>\n",
       "      <td>36202</td>\n",
       "      <td>1</td>\n",
       "      <td>0</td>\n",
       "    </tr>\n",
       "  </tbody>\n",
       "</table>\n",
       "</div>"
      ],
      "text/plain": [
       "      sgUF  sgPartido  txtDescricao  vlrLiquido  numMes  numAno\n",
       "3371     4         26            13       73289       7       0\n",
       "5420    11          8            13       67423       7       0\n",
       "5421    11          8            13       38503       7       0\n",
       "5439    11          8            13       40687       1       0\n",
       "5440    11          8            13       36202       1       0"
      ]
     },
     "execution_count": 44,
     "metadata": {},
     "output_type": "execute_result"
    }
   ],
   "source": [
    "df.head()"
   ]
  },
  {
   "cell_type": "markdown",
   "metadata": {},
   "source": [
    "## Normalização"
   ]
  },
  {
   "cell_type": "code",
   "execution_count": 45,
   "metadata": {
    "scrolled": true
   },
   "outputs": [],
   "source": [
    "mms = MinMaxScaler()"
   ]
  },
  {
   "cell_type": "code",
   "execution_count": 46,
   "metadata": {},
   "outputs": [],
   "source": [
    "features = list(df)\n",
    "features.remove('txtDescricao')\n",
    "x = mms.fit_transform(df[features])"
   ]
  },
  {
   "cell_type": "markdown",
   "metadata": {},
   "source": [
    "## Modelo"
   ]
  },
  {
   "cell_type": "code",
   "execution_count": 47,
   "metadata": {},
   "outputs": [],
   "source": [
    "features = list(df)\n",
    "features.remove('txtDescricao')\n",
    "# x = df[features].values\n",
    "y = df['txtDescricao'].values"
   ]
  },
  {
   "cell_type": "code",
   "execution_count": 48,
   "metadata": {
    "scrolled": true
   },
   "outputs": [
    {
     "name": "stderr",
     "output_type": "stream",
     "text": [
      "/Users/julia/anaconda3/lib/python3.6/site-packages/sklearn/model_selection/_split.py:2026: FutureWarning: From version 0.21, test_size will always complement train_size unless both are specified.\n",
      "  FutureWarning)\n"
     ]
    },
    {
     "name": "stdout",
     "output_type": "stream",
     "text": [
      "595556\n",
      "293334\n"
     ]
    }
   ],
   "source": [
    "x_train, x_test, y_train, y_test= train_test_split(x, y, train_size=0.67, stratify=y)\n",
    "print(len(x_train))\n",
    "print(len(x_test))"
   ]
  },
  {
   "cell_type": "code",
   "execution_count": 49,
   "metadata": {},
   "outputs": [
    {
     "data": {
      "text/plain": [
       "DecisionTreeClassifier(class_weight=None, criterion='entropy', max_depth=5,\n",
       "            max_features=None, max_leaf_nodes=None,\n",
       "            min_impurity_decrease=0.0, min_impurity_split=None,\n",
       "            min_samples_leaf=1, min_samples_split=2,\n",
       "            min_weight_fraction_leaf=0.0, presort=False, random_state=None,\n",
       "            splitter='best')"
      ]
     },
     "execution_count": 49,
     "metadata": {},
     "output_type": "execute_result"
    }
   ],
   "source": [
    "classifier = DecisionTreeClassifier(criterion='entropy', max_depth=5)\n",
    "classifier.fit(x_train, y_train)"
   ]
  },
  {
   "cell_type": "code",
   "execution_count": 50,
   "metadata": {
    "scrolled": true
   },
   "outputs": [
    {
     "name": "stdout",
     "output_type": "stream",
     "text": [
      "Acuracia train: 0.460223723713639\n",
      "Acuracia test: 0.4599091820245863\n"
     ]
    }
   ],
   "source": [
    "acc_train = classifier.score(x_train, y_train)\n",
    "acc_test = classifier.score(x_test, y_test)\n",
    "\n",
    "print('Acuracia train: '+str(acc_train))\n",
    "print('Acuracia test: '+str(acc_test))"
   ]
  },
  {
   "cell_type": "code",
   "execution_count": 51,
   "metadata": {},
   "outputs": [
    {
     "data": {
      "text/plain": [
       "<matplotlib.legend.Legend at 0x1a380b4828>"
      ]
     },
     "execution_count": 51,
     "metadata": {},
     "output_type": "execute_result"
    },
    {
     "data": {
      "image/png": "[encoded data removed]",
      "text/plain": [
       "<Figure size 432x288 with 1 Axes>"
      ]
     },
     "metadata": {},
     "output_type": "display_data"
    }
   ],
   "source": [
    "pca = PCA(n_components=4)\n",
    "x_2d = pca.fit_transform(x)\n",
    "\n",
    "plt.figure()\n",
    "\n",
    "for idx, label in enumerate(set(y)):\n",
    "    plt.scatter(x_2d[np.where(y == label), 0],\n",
    "               x_2d[np.where(y == label), 1],\n",
    "               label=label)\n",
    "    \n",
    "plt.legend(loc='best')"
   ]
  },
  {
   "cell_type": "code",
   "execution_count": 52,
   "metadata": {},
   "outputs": [
    {
     "name": "stdout",
     "output_type": "stream",
     "text": [
      "0.4589171388246845\n"
     ]
    }
   ],
   "source": [
    "knn = KNeighborsClassifier(n_neighbors=10)\n",
    "knn.fit(x_train, y_train)\n",
    "y_pred = knn.predict(x_test)\n",
    "print(metrics.accuracy_score(y_test, y_pred))"
   ]
  },
  {
   "cell_type": "code",
   "execution_count": 53,
   "metadata": {},
   "outputs": [
    {
     "name": "stdout",
     "output_type": "stream",
     "text": [
      "0.3305958395549101\n"
     ]
    }
   ],
   "source": [
    "logreg = LogisticRegression()\n",
    "logreg.fit(x_train, y_train)\n",
    "y_pred = logreg.predict(x_test)\n",
    "print(metrics.accuracy_score(y_test, y_pred))"
   ]
  },
  {
   "cell_type": "code",
   "execution_count": null,
   "metadata": {},
   "outputs": [],
   "source": []
  }
 ],
 "metadata": {
  "kernelspec": {
   "display_name": "Python 3",
   "language": "python",
   "name": "python3"
  },
  "language_info": {
   "codemirror_mode": {
    "name": "ipython",
    "version": 3
   },
   "file_extension": ".py",
   "mimetype": "text/x-python",
   "name": "python",
   "nbconvert_exporter": "python",
   "pygments_lexer": "ipython3",
   "version": "3.6.5"
  }
 },
 "nbformat": 4,
 "nbformat_minor": 2
}
